{
 "cells": [
  {
   "cell_type": "markdown",
   "id": "143932c5",
   "metadata": {},
   "source": [
    "# Unlocking ComfyUI's Power: A Guide to the HTTP API in Jupyter\n",
    "\n",
    "[ComfyUI](https://github.com/comfyanonymous/ComfyUI) is a powerful, modular interface for Stable Diffusion, allowing users to create complex AI image generation workflows with a node-based editor. [Jupyter Notebook](https://jupyter.org/), on the other hand, is a popular interactive environment for data analysis, visualization, and prototyping.\n",
    "\n",
    "By integrating ComfyUI with Jupyter Notebook, you can leverage the flexibility of ComfyUI’s workflows directly within your Python scripts or data science pipelines. Let's focus on a simple approach using Basic HTTP API calls."
   ]
  },
  {
   "cell_type": "markdown",
   "id": "bd4cf7a1",
   "metadata": {},
   "source": [
    "## The Use Case\n",
    "\n",
    "Our goal is to build a high-level generative AI workflow that combines the power of an intelligent agent with the robust image generation capabilities of ComfyUI. The process unfolds in a few simple steps, all orchestrated within a Jupyter Notebook:\n",
    "\n",
    "1. User Input: The workflow begins with a simple, high-level prompt entered directly into the notebook.\n",
    "2. Agent-Powered Expansion: An OpenAI Assistant then takes this basic prompt and transforms it into a detailed, structured JSON Prompt Style Guide. This process enriches the initial idea with specific creative instructions, such as style, composition, and lighting.\n",
    "3. Initiating Generation: This expanded JSON guide is automatically injected into a pre-defined ComfyUI workflow. A single API call to the ComfyUI server starts the image generation process.\n",
    "4. Displaying the Result: Once the generation is complete, we make a second API call to fetch the resulting images. The images are then displayed directly within the Jupyter Notebook, completing our automated pipeline.\n",
    "\n",
    "\n",
    "## Prepare a ComfyUI Workflow\n",
    "\n",
    "- Create or load a workflow in ComfyUI.\n",
    "- Save the workflow as a .json file from the \"*File / Export (API)*\" menu (e.g., `t2i-krea.json`).\n",
    "\n",
    "## Get initial prompt from user"
   ]
  },
  {
   "cell_type": "code",
   "execution_count": 2,
   "id": "09d02a15",
   "metadata": {},
   "outputs": [
    {
     "name": "stdout",
     "output_type": "stream",
     "text": [
      "Please enter your prompt\n",
      "A cowboy riding a giant flying lizard\n"
     ]
    }
   ],
   "source": [
    "print(\"Please enter your prompt\")\n",
    "user_prompt = input()"
   ]
  },
  {
   "cell_type": "markdown",
   "id": "72486827",
   "metadata": {},
   "source": [
    "## Generate JSON Prompt Guide with an Assistant"
   ]
  },
  {
   "cell_type": "code",
   "execution_count": 3,
   "id": "b5231acb",
   "metadata": {
    "scrolled": true
   },
   "outputs": [
    {
     "name": "stdout",
     "output_type": "stream",
     "text": [
      "{\n",
      "  \"style_name\": \"Wild Frontier Fantasy\",\n",
      "  \"inspiration\": [\"American Old West Art\", \"Dragon Illustrations\", \"Classic Westerns\"],\n",
      "  \"scene\": \"Grand, expansive Wild West landscape with an open, cloud-filled sky\",\n",
      "  \"subjects\": [\n",
      "    {\n",
      "      \"type\": \"cowboy\",\n",
      "      \"description\": \"weathered, stern face, straw hat, just visible under the broad brim, wearing a duster coat and leather boots\",\n",
      "      \"position\": \"center\",\n",
      "      \"pose\": \"riding\",\n",
      "      \"size\": \"medium\",\n",
      "      \"expression\": \"resolved\",\n",
      "      \"interaction\": \"guiding the flying lizard\"\n",
      "    },\n",
      "    {\n",
      "      \"type\": \"flying lizard\",\n",
      "      \"description\": \"giant lizard with leathery wings, colored in dusty shades of brown and green\",\n",
      "      \"position\": \"background\",\n",
      "      \"pose\": \"in flight\",\n",
      "      \"size\": \"large\",\n",
      "      \"expression\": \"ferocious\",\n",
      "      \"interaction\": \"being ridden by the cowboy\"\n",
      "    }\n",
      "  ],\n",
      "  \"style\": \"Semi-Realistic\",\n",
      "  \"color_palette\": {\n",
      "    \"primary\": \"#6d4c41\",\n",
      "    \"secondary\": \"#74a089\",\n",
      "    \"highlight\": \"#deb887\",\n",
      "    \"shadow\": \"#000000\",\n",
      "    \"background_gradient\": [\"#fcca46\", \"#f6bc16\"]\n",
      "  },\n",
      "  \"lighting\": \"Late afternoon sun casting long, dramatic shadows\",\n",
      "  \"mood\": \"Adventurous\",\n",
      "  \"background\": {\n",
      "    \"type\": \"scenery\",\n",
      "    \"details\": \"desert plains stretching into the distance, rugged mountain backdrops\"\n",
      "  },\n",
      "  \"composition\": \"center focus\",\n",
      "  \"camera\": {\n",
      "    \"angle\": \"low angle\",\n",
      "    \"distance\": \"medium shot\",\n",
      "    \"lens\": \"wide-angle\",\n",
      "    \"focus\": \"sharp subject, blurred background\"\n",
      "  },\n",
      "  \"medium\": \"Digital Painting\",\n",
      "  \"textures\": [\"rough scales\", \"hand-stitched leather\"],\n",
      "  \"resolution\": \"4K\",\n",
      "  \"details\": {\n",
      "    \"cowboy\": {\n",
      "      \"accessories\": [\"spurs\", \"lasso\"],\n",
      "      \"clothing\": [\"duster coat\", \"leather gloves\", \"cowboy hat\", \"bandana\"]\n",
      "    },\n",
      "    \"lizard\": {\n",
      "      \"features\": [\"sharp teeth\", \"leathery wings\", \"spiked tail\"]\n",
      "    }\n",
      "  },\n",
      "  \"effects\": [\"motion blur\"],\n",
      "  \"themes\": [\"Freedom\", \"Adventure\", \"Fantasy\", \"Wilderness\"],\n",
      "  \"usage_notes\": \"Ideal for high-impact visual projects that require a unique blend of fantasy and classic Western motifs\"\n",
      "}\n"
     ]
    }
   ],
   "source": [
    "import os\n",
    "from openai import OpenAI\n",
    "from dotenv import load_dotenv\n",
    "\n",
    "load_dotenv()\n",
    "\n",
    "client = OpenAI(api_key=os.environ.get(\"OPENAI_API_KEY\"))\n",
    "\n",
    "# Create a thread\n",
    "thread = client.beta.threads.create()\n",
    "\n",
    "# Send a message\n",
    "message = client.beta.threads.messages.create(\n",
    "    thread_id=thread.id,\n",
    "    role=\"user\",\n",
    "    content=user_prompt\n",
    ")\n",
    "\n",
    "# Run the assistant\n",
    "run = client.beta.threads.runs.create(\n",
    "    thread_id=thread.id,\n",
    "    assistant_id=\"asst_Uj0Qr0rG0bz8NVk1LWiS9UKv\"\n",
    ")\n",
    "\n",
    "# Wait for completion and retrieve the response\n",
    "import time\n",
    "while run.status != \"completed\":\n",
    "    time.sleep(1)\n",
    "    run = client.beta.threads.runs.retrieve(thread_id=thread.id, run_id=run.id)\n",
    "\n",
    "# Get the response\n",
    "messages = client.beta.threads.messages.list(thread_id=thread.id)\n",
    "json_prompt = messages.data[0].content[0].text.value\n",
    "print(json_prompt)\n"
   ]
  },
  {
   "cell_type": "markdown",
   "id": "78247fcc",
   "metadata": {},
   "source": [
    "## Trigger the Workflow from Jupyter Notebook\n",
    "\n",
    "Use the requests library to send a POST request to the ComfyUI API:"
   ]
  },
  {
   "cell_type": "code",
   "execution_count": 4,
   "id": "35f0c895",
   "metadata": {},
   "outputs": [
    {
     "name": "stdout",
     "output_type": "stream",
     "text": [
      "c14e6d4b-7667-42d3-a7b9-190acdcbc1e7\n"
     ]
    }
   ],
   "source": [
    "import requests\n",
    "import json\n",
    "\n",
    "# ComfyUI server URL\n",
    "comfy_url = \"http://127.0.0.1:8188\"\n",
    "prompt_url = f\"{comfy_url}/prompt\"\n",
    "\n",
    "# Load your workflow JSON\n",
    "with open(\"t2i-krea.json\", \"r\") as f:\n",
    "    workflow = json.load(f)\n",
    "\n",
    "# Replace the prompt\n",
    "workflow[\"39:6\"][\"inputs\"][\"text\"] = json_prompt\n",
    "    \n",
    "# Define the payload\n",
    "payload = {\n",
    "    \"prompt\": workflow,\n",
    "    \"client_id\": \"jupyter_notebook\"\n",
    "}\n",
    "\n",
    "# Send the request\n",
    "response = requests.post(prompt_url, json=payload)\n",
    "\n",
    "# Get the prompt_id\n",
    "prompt_id = response.json()['prompt_id']\n",
    "print(prompt_id)\n"
   ]
  },
  {
   "cell_type": "markdown",
   "id": "ef118074",
   "metadata": {},
   "source": [
    "## Retrieve the generated images\n",
    "\n",
    "ComfyUI processes the workflow asynchronously. \n",
    "\n",
    "To fetch the result, poll the /history endpoint:"
   ]
  },
  {
   "cell_type": "code",
   "execution_count": 5,
   "id": "0daeec6c",
   "metadata": {},
   "outputs": [
    {
     "data": {
      "text/html": [
       "<img src=\"http://127.0.0.1:8188/view?filename=SHAKA_00136_.png\" width=\"200\"/>"
      ],
      "text/plain": [
       "<IPython.core.display.Image object>"
      ]
     },
     "metadata": {},
     "output_type": "display_data"
    },
    {
     "data": {
      "text/html": [
       "<img src=\"http://127.0.0.1:8188/view?filename=SHAKA_00137_.png\" width=\"200\"/>"
      ],
      "text/plain": [
       "<IPython.core.display.Image object>"
      ]
     },
     "metadata": {},
     "output_type": "display_data"
    }
   ],
   "source": [
    "import time\n",
    "from IPython.display import Image, display    \n",
    "\n",
    "# Wait for the workflow to complete\n",
    "time.sleep(25)  # Adjust based on workflow complexity\n",
    "\n",
    "# Fetch the latest result for our prompt\n",
    "history_url = f\"{comfy_url}/history/{prompt_id}\"\n",
    "history = requests.get(history_url).json()\n",
    "\n",
    "# Navigate to the list of image outputs and display them\n",
    "image_outputs = history[prompt_id][\"outputs\"][\"9\"][\"images\"]\n",
    "\n",
    "for image in image_outputs:\n",
    "    filename = image[\"filename\"]\n",
    "    image_url = f\"{comfy_url}/view?filename={filename}\"\n",
    "    display(Image(url=image_url, width=200))\n"
   ]
  },
  {
   "cell_type": "code",
   "execution_count": null,
   "id": "904b7a80",
   "metadata": {},
   "outputs": [],
   "source": []
  }
 ],
 "metadata": {
  "kernelspec": {
   "display_name": "Python 3 (ipykernel)",
   "language": "python",
   "name": "python3"
  },
  "language_info": {
   "codemirror_mode": {
    "name": "ipython",
    "version": 3
   },
   "file_extension": ".py",
   "mimetype": "text/x-python",
   "name": "python",
   "nbconvert_exporter": "python",
   "pygments_lexer": "ipython3",
   "version": "3.12.3"
  }
 },
 "nbformat": 4,
 "nbformat_minor": 5
}
